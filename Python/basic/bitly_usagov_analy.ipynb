{
 "cells": [
  {
   "cell_type": "code",
   "execution_count": 31,
   "metadata": {
    "collapsed": false
   },
   "outputs": [
    {
     "data": {
      "text/plain": [
       "['America/New_York', 'America/Denver', 'America/New_York']"
      ]
     },
     "execution_count": 31,
     "metadata": {},
     "output_type": "execute_result"
    }
   ],
   "source": [
    "import json\n",
    "from collections import defaultdict,Counter\n",
    "\n",
    "path='E://study//Demo//Data_Demo//Python//resource//datasets//example.txt'\n",
    "records = [json.loads(line) for line in open(path)]\n",
    "time_zones = [rec['tz'] for rec in records if 'tz' in rec]\n",
    "time_zones[:3]"
   ]
  },
  {
   "cell_type": "code",
   "execution_count": 32,
   "metadata": {},
   "outputs": [
    {
     "data": {
      "text/plain": [
       "[('America/New_York', 1251),\n ('', 521),\n ('America/Chicago', 400),\n ('America/Los_Angeles', 382),\n ('America/Denver', 191),\n ('Europe/London', 74),\n ('Asia/Tokyo', 37),\n ('Pacific/Honolulu', 36),\n ('Europe/Madrid', 35),\n ('America/Sao_Paulo', 33)]"
      ]
     },
     "execution_count": 32,
     "metadata": {},
     "output_type": "execute_result"
    }
   ],
   "source": [
    "def get_totals(sequence):\n",
    "    counts={}\n",
    "    for x in sequence:\n",
    "        if x in counts:\n",
    "            counts[x]+=1\n",
    "        else:\n",
    "            counts[x]=1\n",
    "    return counts\n",
    "\n",
    "def get_totals_2(sequence):\n",
    "    counts=defaultdict(int)\n",
    "    for x in sequence:\n",
    "        counts[x]+=1\n",
    "    return counts\n",
    "\n",
    "def top_counts(count_dict,n=10):\n",
    "    value_key_pairs = [(count, tz) for tz, count in count_dict.items()]\n",
    "    value_key_pairs.sort()\n",
    "    return value_key_pairs[-n:]\n",
    "\n",
    "counts = get_totals(time_zones)\n",
    "top_counts(counts)        \n",
    "\n",
    "counts_2 = Counter(time_zones)\n",
    "counts_2.most_common(10)"
   ]
  },
  {
   "cell_type": "code",
   "execution_count": 7,
   "metadata": {},
   "outputs": [],
   "source": []
  },
  {
   "cell_type": "code",
   "execution_count": null,
   "metadata": {},
   "outputs": [],
   "source": []
  }
 ],
 "metadata": {
  "kernelspec": {
   "display_name": "Python 2",
   "language": "python",
   "name": "python2"
  },
  "language_info": {
   "codemirror_mode": {
    "name": "ipython",
    "version": 2
   },
   "file_extension": ".py",
   "mimetype": "text/x-python",
   "name": "python",
   "nbconvert_exporter": "python",
   "pygments_lexer": "ipython2",
   "version": "2.7.6"
  }
 },
 "nbformat": 4,
 "nbformat_minor": 0
}
